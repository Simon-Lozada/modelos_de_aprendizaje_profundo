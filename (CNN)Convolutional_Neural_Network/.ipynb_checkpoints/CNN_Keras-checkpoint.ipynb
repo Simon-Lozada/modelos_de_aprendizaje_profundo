{
 "cells": [
  {
   "cell_type": "code",
   "execution_count": 1,
   "id": "c2cd6d2c",
   "metadata": {},
   "outputs": [
    {
     "name": "stderr",
     "output_type": "stream",
     "text": [
      "2021-12-07 14:35:15.062693: W tensorflow/stream_executor/platform/default/dso_loader.cc:64] Could not load dynamic library 'libcudart.so.11.0'; dlerror: libcudart.so.11.0: cannot open shared object file: No such file or directory; LD_LIBRARY_PATH: :/opt/oracle/instantclient_19_8\n",
      "2021-12-07 14:35:15.062739: I tensorflow/stream_executor/cuda/cudart_stub.cc:29] Ignore above cudart dlerror if you do not have a GPU set up on your machine.\n"
     ]
    }
   ],
   "source": [
    "#descargar datos de mnist y dividirlos en conjuntos de prueba y de tren\n",
    "from keras.datasets import mnist\n",
    "(X_train, y_train), (X_test, y_test) = mnist.load_data()"
   ]
  },
  {
   "cell_type": "code",
   "execution_count": 2,
   "id": "71e1871f",
   "metadata": {
    "scrolled": true
   },
   "outputs": [
    {
     "data": {
      "text/plain": [
       "<matplotlib.image.AxesImage at 0x7fcf9145bc70>"
      ]
     },
     "execution_count": 2,
     "metadata": {},
     "output_type": "execute_result"
    },
    {
     "data": {
      "image/png": "[encoded data removed]",
      "text/plain": [
       "<Figure size 432x288 with 1 Axes>"
      ]
     },
     "metadata": {
      "needs_background": "light"
     },
     "output_type": "display_data"
    }
   ],
   "source": [
    "#traza la primera imagen del conjunto de datos\n",
    "import matplotlib.pyplot as plt\n",
    "plt.imshow(X_train[0])"
   ]
  },
  {
   "cell_type": "code",
   "execution_count": 3,
   "id": "e712676e",
   "metadata": {},
   "outputs": [
    {
     "data": {
      "text/plain": [
       "(28, 28)"
      ]
     },
     "execution_count": 3,
     "metadata": {},
     "output_type": "execute_result"
    }
   ],
   "source": [
    "#comprobar la forma de la imagen\n",
    "X_train[0].shape"
   ]
  },
  {
   "cell_type": "markdown",
   "id": "c5777999",
   "metadata": {},
   "source": [
    "## Preprocesamiento de datos\n",
    "\n",
    "A continuación, necesitamos remodelar las entradas de nuestro conjunto de datos (X_train y X_test) de la forma en que nuestro modelo espera cuando entrenamos el modelo. El primer número es el número de imágenes (60.000 para X_train y 10.000 para X_test). Luego viene la forma de cada imagen (28x28). El último número es 1, lo que significa que las imágenes están en escala de grises."
   ]
  },
  {
   "cell_type": "code",
   "execution_count": 4,
   "id": "a92f92ad",
   "metadata": {},
   "outputs": [],
   "source": [
    "#reformar los datos para que se ajusten al modelo\n",
    "X_train = X_train.reshape(60000,28,28,1)\n",
    "X_test = X_test.reshape(10000,28,28,1)"
   ]
  },
  {
   "cell_type": "markdown",
   "id": "aaad6d06",
   "metadata": {},
   "source": [
    "Necesitamos **'hot code'** nuestra variable de destino. Esto significa que se creará una columna para cada categoría de salida y se ingresará una variable binaria para cada categoría. Por ejemplo, vimos que la primera imagen en el conjunto de datos es un 5. Esto significa que el sexto número en nuestra matriz tendrá un 1 y el resto de la matriz se rellenará con 0."
   ]
  },
  {
   "cell_type": "code",
   "execution_count": 5,
   "id": "e8915a02",
   "metadata": {},
   "outputs": [
    {
     "data": {
      "text/plain": [
       "array([0., 0., 0., 0., 0., 1., 0., 0., 0., 0.], dtype=float32)"
      ]
     },
     "execution_count": 5,
     "metadata": {},
     "output_type": "execute_result"
    }
   ],
   "source": [
    "from tensorflow.keras.utils import to_categorical\n",
    "\n",
    "#one-hot encode target column\n",
    "y_train = to_categorical(y_train)\n",
    "\n",
    "y_test = to_categorical(y_test)\n",
    "\n",
    "y_train[0]"
   ]
  },
  {
   "cell_type": "code",
   "execution_count": 6,
   "id": "8fe76098",
   "metadata": {},
   "outputs": [
    {
     "name": "stderr",
     "output_type": "stream",
     "text": [
      "2021-12-07 14:35:17.751509: W tensorflow/stream_executor/platform/default/dso_loader.cc:64] Could not load dynamic library 'libcuda.so.1'; dlerror: libcuda.so.1: cannot open shared object file: No such file or directory; LD_LIBRARY_PATH: :/opt/oracle/instantclient_19_8\n",
      "2021-12-07 14:35:17.751556: W tensorflow/stream_executor/cuda/cuda_driver.cc:269] failed call to cuInit: UNKNOWN ERROR (303)\n",
      "2021-12-07 14:35:17.751579: I tensorflow/stream_executor/cuda/cuda_diagnostics.cc:156] kernel driver does not appear to be running on this host (virtual-machine): /proc/driver/nvidia/version does not exist\n",
      "2021-12-07 14:35:17.751961: I tensorflow/core/platform/cpu_feature_guard.cc:151] This TensorFlow binary is optimized with oneAPI Deep Neural Network Library (oneDNN) to use the following CPU instructions in performance-critical operations:  AVX2 FMA\n",
      "To enable them in other operations, rebuild TensorFlow with the appropriate compiler flags.\n"
     ]
    }
   ],
   "source": [
    "#CREANDO EL MODELO#\n",
    "\n",
    "#from tensorflow.keras.layers import Conv2D, Flatten, Dense, MaxPooling2D\n",
    "#from tensorflow.keras.models import Sequential\n",
    "\n",
    "#model = Sequential()#add model layers\n",
    "#model.add(Conv2D(64, kernel_size=3, activation=\"relu\", input_shape=(28,28,1)))\n",
    "#model.add(MaxPooling2D(pool_size = (5, 5),strides = (2, 2), padding = \"same\"))\n",
    "#model.add(Conv2D(32, kernel_size=3, activation=\"relu\"))\n",
    "#model.add(Flatten())\n",
    "#model.add(Dense(10, activation=\"softmax\"))\n",
    "\n",
    "# o tambien\n",
    "\n",
    "from tensorflow.keras.models import Sequential\n",
    "from tensorflow.keras import layers\n",
    "\n",
    "model = Sequential([\n",
    "    # Conv2D hidden layer (This is a convolution layer)\n",
    "    #Data entry is a tuple because the two-dimensional image (28 pixels high, 28 wide and 1 represents that the image is in the gray scale)\n",
    "    layers.Conv2D(64, kernel_size = 3, activation = \"relu\", input_shape = (28,28,1)),\n",
    "    \n",
    "    # Capa \"MaxPooling2D\"\n",
    "    #Reducir la muestra de la entrada a lo largo de sus dimensiones espaciales (alto y ancho) tomando el valor máximo sobre una ventana de entrada (de tamaño definido por pool_size) para cada canal de la entrada.\n",
    "    #La ventana se mueve a pasos agigantados a lo largo de cada dimensión.\n",
    "    #La forma de salida resultante cuando se usa el \"mismo\" La opción de relleno es: output_shape = math.floor ((input_shape - 1) / strides) + 1\n",
    "    layers.MaxPooling2D(pool_size = (5, 5),strides = (2, 2), padding = \"same\"),\n",
    "\n",
    "    # o tambien \n",
    "    \n",
    "    #La salida resultante, cuando se usa la opción de relleno \"válida\", tiene una forma espacial (número de filas o columnas) de: output_shape = math.floor ((input_shape - pool_size) / strides) + 1 (cuando input_shape> = pool_size)\n",
    "    #layers.MaxPooling2D(pool_size = (5, 5),strides = (2, 2), padding = \"valid\"),\n",
    "    \n",
    "    \n",
    "    \n",
    "    #la capa oculta de Conv2D (esta es una capa de convolución)\n",
    "    layers.Conv2D(32, kernel_size = 3, activation = \"relu\"),\n",
    "    \n",
    "    #\"Flatten\"sirve como conexión entre la convolución y las capas densas.\n",
    "    layers.Flatten(),\n",
    "    \n",
    "    \n",
    "    #Tendremos 10 nodos en nuestra capa de salida, uno para cada resultado posible (0–9).\n",
    "    # La activación \"Softmax\" convierte un vector de valores en una distribución de probabilidad. El argumento del eje establece qué eje de la entrada a lo largo del cual se aplica la función\n",
    "    #Softmax se usa a menudo como un disparador para la última capa de una red de clasificación porque el resultado podría interpretarse como una distribución de probabilidad.\n",
    "    layers.Dense(units = 10, activation = \"softmax\"),\n",
    "])"
   ]
  },
  {
   "cell_type": "code",
   "execution_count": 7,
   "id": "4c542667",
   "metadata": {},
   "outputs": [],
   "source": [
    "#compilar el modelo utilizando precisión para medir el rendimiento del modelo\n",
    "model.compile(optimizer = \"adam\",\n",
    "              loss = \"categorical_crossentropy\", \n",
    "              metrics = [\"accuracy\"])"
   ]
  },
  {
   "cell_type": "code",
   "execution_count": 8,
   "id": "69a731fc",
   "metadata": {
    "scrolled": true
   },
   "outputs": [
    {
     "name": "stdout",
     "output_type": "stream",
     "text": [
      "Epoch 1/3\n",
      "1875/1875 [==============================] - 47s 25ms/step - loss: 0.3235 - accuracy: 0.9377 - val_loss: 0.0993 - val_accuracy: 0.9697\n",
      "Epoch 2/3\n",
      "1875/1875 [==============================] - 45s 24ms/step - loss: 0.1058 - accuracy: 0.9690 - val_loss: 0.1057 - val_accuracy: 0.9717\n",
      "Epoch 3/3\n",
      "1875/1875 [==============================] - 44s 24ms/step - loss: 0.0889 - accuracy: 0.9742 - val_loss: 0.1006 - val_accuracy: 0.9752\n"
     ]
    }
   ],
   "source": [
    "#entrenamiento del modelo\n",
    "history = model.fit(X_train, y_train, validation_data = (X_test, y_test), epochs = 3)"
   ]
  },
  {
   "cell_type": "markdown",
   "id": "d3bc4461",
   "metadata": {},
   "source": [
    "## Usando nuestro modelo para hacer predicciones\n",
    "\n",
    "Si desea ver las predicciones reales que nuestro modelo ha hecho para los datos de prueba, podemos usar la función de predicción. La función de predicción dará una matriz con 10 números. Estos números son las probabilidades de que la imagen de entrada represente cada dígito (0–9). El índice de la matriz con el número más alto representa la predicción del modelo. La suma de cada matriz es igual a 1 (ya que cada número es una probabilidad).\n",
    "\n",
    "Para mostrar esto, mostraremos las predicciones para las primeras 4 imágenes en el conjunto de prueba.\n",
    "\n",
    "**Nota: Si tenemos nuevos datos, podemos ingresar nuestros nuevos datos en la función de predicción para ver las predicciones que hace nuestro modelo sobre los nuevos datos. Dado que no tenemos ningún dato nuevo que no se haya visto, mostraremos predicciones usando el conjunto de prueba por ahora.**"
   ]
  },
  {
   "cell_type": "code",
   "execution_count": 9,
   "id": "391b31fc",
   "metadata": {},
   "outputs": [
    {
     "data": {
      "text/plain": [
       "array([[5.56177120e-13, 5.38809622e-16, 1.72071035e-09, 6.13306517e-10,\n",
       "        9.63841769e-18, 1.03356728e-15, 2.01234633e-25, 1.00000000e+00,\n",
       "        3.16681292e-14, 7.27770188e-12],\n",
       "       [2.14798719e-13, 1.40647494e-09, 1.00000000e+00, 5.29159746e-12,\n",
       "        1.47320817e-17, 2.98247448e-17, 9.38659636e-11, 5.81446164e-17,\n",
       "        1.59513537e-12, 9.03067971e-20],\n",
       "       [6.41239503e-13, 9.99997497e-01, 2.33573894e-09, 2.02811231e-14,\n",
       "        1.94193899e-06, 2.15471239e-12, 5.76280627e-07, 1.61730726e-10,\n",
       "        2.45065235e-11, 5.45420425e-13],\n",
       "       [9.99994516e-01, 3.37960698e-13, 6.52190195e-08, 4.12401368e-14,\n",
       "        8.27522252e-12, 1.15178235e-10, 5.26171380e-06, 2.33809066e-12,\n",
       "        5.99882171e-08, 4.57966748e-10]], dtype=float32)"
      ]
     },
     "execution_count": 9,
     "metadata": {},
     "output_type": "execute_result"
    }
   ],
   "source": [
    "# predice las primeras 4 imágenes en el conjunto de prueba\n",
    "model.predict(X_test[:4])"
   ]
  },
  {
   "cell_type": "code",
   "execution_count": 10,
   "id": "0590731d",
   "metadata": {},
   "outputs": [
    {
     "data": {
      "text/plain": [
       "array([[0., 0., 0., 0., 0., 0., 0., 1., 0., 0.],\n",
       "       [0., 0., 1., 0., 0., 0., 0., 0., 0., 0.],\n",
       "       [0., 1., 0., 0., 0., 0., 0., 0., 0., 0.],\n",
       "       [1., 0., 0., 0., 0., 0., 0., 0., 0., 0.]], dtype=float32)"
      ]
     },
     "execution_count": 10,
     "metadata": {},
     "output_type": "execute_result"
    }
   ],
   "source": [
    "#Resultados reales de las primeras 4 imágenes en el conjunto de prueba\n",
    "y_test[:4]"
   ]
  },
  {
   "cell_type": "code",
   "execution_count": 14,
   "id": "b7edd01f",
   "metadata": {
    "scrolled": true
   },
   "outputs": [
    {
     "name": "stdout",
     "output_type": "stream",
     "text": [
      "Minimum Validation Loss: 0.0993\n"
     ]
    },
    {
     "data": {
      "image/png": "[encoded data removed]",
      "text/plain": [
       "<Figure size 432x288 with 1 Axes>"
      ]
     },
     "metadata": {
      "needs_background": "light"
     },
     "output_type": "display_data"
    }
   ],
   "source": [
    "import pandas as pd\n",
    "history_df = pd.DataFrame(history.history)\n",
    "history_df.loc[:, ['loss', 'val_loss']].plot()\n",
    "print(\"Minimum Validation Loss: {:0.4f}\".format(history_df['val_loss'].min()));"
   ]
  },
  {
   "cell_type": "code",
   "execution_count": 12,
   "id": "2726834d",
   "metadata": {},
   "outputs": [
    {
     "data": {
      "image/png": "[encoded data removed]",
      "text/plain": [
       "<Figure size 432x288 with 1 Axes>"
      ]
     },
     "metadata": {
      "needs_background": "light"
     },
     "output_type": "display_data"
    }
   ],
   "source": [
    "# convertir el historial de entrenamiento en un marco de datos\n",
    "history_df = pd.DataFrame(history.history)\n",
    "# use el método de trazado nativo de Pandas\n",
    "history_df['loss'].plot();"
   ]
  },
  {
   "cell_type": "markdown",
   "id": "34475ae5",
   "metadata": {},
   "source": [
    "# Thanks to :\n",
    "# Gracias a :\n",
    "https://towardsdatascience.com/building-a-convolutional-neural-network-cnn-in-keras-329fbbadc5f5"
   ]
  },
  {
   "cell_type": "code",
   "execution_count": null,
   "id": "21152440",
   "metadata": {},
   "outputs": [],
   "source": []
  }
 ],
 "metadata": {
  "kernelspec": {
   "display_name": "Python 3 (ipykernel)",
   "language": "python",
   "name": "python3"
  },
  "language_info": {
   "codemirror_mode": {
    "name": "ipython",
    "version": 3
   },
   "file_extension": ".py",
   "mimetype": "text/x-python",
   "name": "python",
   "nbconvert_exporter": "python",
   "pygments_lexer": "ipython3",
   "version": "3.8.2"
  }
 },
 "nbformat": 4,
 "nbformat_minor": 5
}
