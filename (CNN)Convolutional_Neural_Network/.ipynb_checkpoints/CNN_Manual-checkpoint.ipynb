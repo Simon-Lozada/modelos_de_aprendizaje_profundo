{
 "cells": [
  {
   "cell_type": "code",
   "execution_count": 8,
   "id": "6d62c2c5",
   "metadata": {},
   "outputs": [],
   "source": [
    "import tensorflow as tf\n",
    "from keras.datasets import mnist\n"
   ]
  },
  {
   "cell_type": "code",
   "execution_count": 4,
   "id": "4109a2b4",
   "metadata": {
    "scrolled": true
   },
   "outputs": [
    {
     "name": "stderr",
     "output_type": "stream",
     "text": [
      "2021-12-08 14:06:11.241271: W tensorflow/stream_executor/platform/default/dso_loader.cc:64] Could not load dynamic library 'libcudart.so.11.0'; dlerror: libcudart.so.11.0: cannot open shared object file: No such file or directory; LD_LIBRARY_PATH: :/opt/oracle/instantclient_19_8\n",
      "2021-12-08 14:06:11.241329: I tensorflow/stream_executor/cuda/cudart_stub.cc:29] Ignore above cudart dlerror if you do not have a GPU set up on your machine.\n"
     ]
    }
   ],
   "source": [
    "(x_train, y_train), (x_test, y_test) = mnist.load_data()"
   ]
  },
  {
   "cell_type": "markdown",
   "id": "d05b4990",
   "metadata": {},
   "source": [
    "Los datos de características están entre 0 y 255, y lo normalizaremos para mejorar el rendimiento de optimización"
   ]
  },
  {
   "cell_type": "code",
   "execution_count": 5,
   "id": "c44dab5e",
   "metadata": {},
   "outputs": [],
   "source": [
    "x_train, x_test = x_train / 255.0, x_test / 255.0"
   ]
  },
  {
   "cell_type": "markdown",
   "id": "6726059f",
   "metadata": {},
   "source": [
    "Echemos un vistazo a los primeros valores de etiqueta:"
   ]
  },
  {
   "cell_type": "code",
   "execution_count": 6,
   "id": "96335a87",
   "metadata": {},
   "outputs": [
    {
     "name": "stdout",
     "output_type": "stream",
     "text": [
      "[5 0 4 1 9]\n"
     ]
    }
   ],
   "source": [
    "print(y_train[0:5])"
   ]
  },
  {
   "cell_type": "markdown",
   "id": "75b4e280",
   "metadata": {},
   "source": [
    "El esquema de etiquetas actual simplemente identifica la categoría a la que pertenece cada punto de datos (a cada dígito escrito a mano se le asigna una categoría igual al valor numérico).  Necesitamos convertir esto en un vector codificado en caliente.  A diferencia de la representación binaria, las etiquetas se presentarán de manera que para representar un número N, el $ N ^ {th} $ bit es 1 mientras que los otros bits son 0. Por ejemplo, cinco y cero en un código binario sería:"
   ]
  },
  {
   "cell_type": "markdown",
   "id": "d33ab40e",
   "metadata": {},
   "source": [
    "<pre>\n",
    "Number representation:    0\n",
    "Binary encoding:        [2^5]  [2^4]   [2^3]   [2^2]   [2^1]   [2^0]  \n",
    "Array/vector:             0      0       0       0       0       0 \n",
    "\n",
    "Number representation:    5\n",
    "Binary encoding:        [2^5]  [2^4]   [2^3]   [2^2]   [2^1]   [2^0]  \n",
    "Array/vector:             0      0       0       1       0       1  \n",
    "</pre>"
   ]
  },
  {
   "cell_type": "markdown",
   "id": "6c8085e4",
   "metadata": {},
   "source": [
    "Usando una notación diferente, los mismos dígitos usando la representación de un vector activo se pueden mostrar como:"
   ]
  },
  {
   "cell_type": "markdown",
   "id": "1bbc58b0",
   "metadata": {},
   "source": [
    "<pre>\n",
    "Number representation:    0\n",
    "One-hot encoding:        [5]   [4]    [3]    [2]    [1]   [0]  \n",
    "Array/vector:             0     0      0      0      0     1   \n",
    "\n",
    "Number representation:    5\n",
    "One-hot encoding:        [5]   [4]    [3]    [2]    [1]    [0]  \n",
    "Array/vector:             1     0      0      0      0      0   \n",
    "</pre>"
   ]
  },
  {
   "cell_type": "markdown",
   "id": "c8901b4b",
   "metadata": {},
   "source": [
    "Esta es una operación estándar y se muestra a continuación."
   ]
  },
  {
   "cell_type": "code",
   "execution_count": 9,
   "id": "3a075d16",
   "metadata": {
    "scrolled": true
   },
   "outputs": [
    {
     "name": "stdout",
     "output_type": "stream",
     "text": [
      "categorical labels\n",
      "[5 0 4 1 9]\n",
      "one hot encoded labels\n",
      "tf.Tensor(\n",
      "[[0. 0. 0. 0. 0. 1. 0. 0. 0. 0.]\n",
      " [1. 0. 0. 0. 0. 0. 0. 0. 0. 0.]\n",
      " [0. 0. 0. 0. 1. 0. 0. 0. 0. 0.]\n",
      " [0. 1. 0. 0. 0. 0. 0. 0. 0. 0.]\n",
      " [0. 0. 0. 0. 0. 0. 0. 0. 0. 1.]], shape=(5, 10), dtype=float32)\n"
     ]
    },
    {
     "name": "stderr",
     "output_type": "stream",
     "text": [
      "2021-12-08 14:15:42.062069: W tensorflow/stream_executor/platform/default/dso_loader.cc:64] Could not load dynamic library 'libcuda.so.1'; dlerror: libcuda.so.1: cannot open shared object file: No such file or directory; LD_LIBRARY_PATH: :/opt/oracle/instantclient_19_8\n",
      "2021-12-08 14:15:42.062137: W tensorflow/stream_executor/cuda/cuda_driver.cc:269] failed call to cuInit: UNKNOWN ERROR (303)\n",
      "2021-12-08 14:15:42.062173: I tensorflow/stream_executor/cuda/cuda_diagnostics.cc:156] kernel driver does not appear to be running on this host (virtual-machine): /proc/driver/nvidia/version does not exist\n",
      "2021-12-08 14:15:42.062647: I tensorflow/core/platform/cpu_feature_guard.cc:151] This TensorFlow binary is optimized with oneAPI Deep Neural Network Library (oneDNN) to use the following CPU instructions in performance-critical operations:  AVX2 FMA\n",
      "To enable them in other operations, rebuild TensorFlow with the appropriate compiler flags.\n"
     ]
    }
   ],
   "source": [
    "print(\"categorical labels\")\n",
    "print(y_train[0:5])\n",
    "\n",
    "# make labels one hot encoded\n",
    "y_train = tf.one_hot(y_train, 10)\n",
    "y_test = tf.one_hot(y_test, 10)\n",
    "\n",
    "print(\"one hot encoded labels\")\n",
    "print(y_train[0:5])"
   ]
  },
  {
   "cell_type": "markdown",
   "id": "831b5d79",
   "metadata": {},
   "source": [
    "## Entendiendo los datos importados\n",
    "\n",
    "Los datos importados se pueden dividir de la siguiente manera:\n",
    "\n",
    "*   Capacitación >> Utilice el conjunto de datos proporcionado con entradas y salidas relacionadas para la capacitación de NN. En nuestro caso, si da una imagen que sabe que representa un \"nueve\", este conjunto le dirá a la red neuronal que esperamos un \"nueve\" como salida.\\\n",
    "    \\- 60.000 puntos de datos \n",
    "    \\- x_train para entradas \n",
    "    \\- tren_y para salidas / etiquetas\n",
    "\n",
    "\n",
    "*   Prueba >> El modelo no tiene acceso a esta información antes de la fase de prueba. Se utiliza para evaluar el rendimiento y la precisión del modelo frente a \"situaciones de la vida real\". No hay más optimización más allá de este punto.\n",
    "    - 10,000 puntos de datos - x_test para entradas - y_test para salidas / etiquetas\n",
    "\n",
    "\n",
    "*   Los datos de validación no se utilizan en este ejemplo."
   ]
  },
  {
   "cell_type": "code",
   "execution_count": 10,
   "id": "633100a0",
   "metadata": {},
   "outputs": [
    {
     "name": "stdout",
     "output_type": "stream",
     "text": [
      "number of training examples: 60000\n",
      "number of test examples: 10000\n"
     ]
    }
   ],
   "source": [
    "print(\"number of training examples:\" , x_train.shape[0])\n",
    "print(\"number of test examples:\" , x_test.shape[0])"
   ]
  },
  {
   "cell_type": "markdown",
   "id": "76d8eadd",
   "metadata": {},
   "source": [
    "La nueva API de conjunto de datos en TensorFlow 2.X le permite definir tamaños de lote como parte del conjunto de datos. También ha mejorado las características de E / S y es la forma recomendada de cargar datos. Esto le permite iterar a través de subconjuntos (lotes) de datos durante el entrenamiento. Esta es una práctica común que mejora el rendimiento al calcular gradientes en lotes más pequeños. Veremos esto en acción durante el paso de entrenamiento.\n",
    "\n",
    "Además, puede mezclar el conjunto de datos si cree que hay una distribución sesgada de datos en el conjunto de datos original que puede resultar en lotes con distribuciones diferentes. No estamos barajando datos aquí.\n"
   ]
  },
  {
   "cell_type": "code",
   "execution_count": 11,
   "id": "1236f22c",
   "metadata": {},
   "outputs": [
    {
     "name": "stderr",
     "output_type": "stream",
     "text": [
      "2021-12-08 14:33:30.796947: W tensorflow/core/framework/cpu_allocator_impl.cc:82] Allocation of 376320000 exceeds 10% of free system memory.\n"
     ]
    }
   ],
   "source": [
    "train_ds = tf.data.Dataset.from_tensor_slices((x_train, y_train)).batch(50)\n",
    "test_ds = tf.data.Dataset.from_tensor_slices((x_test, y_test)).batch(50)"
   ]
  },
  {
   "cell_type": "markdown",
   "id": "d3bb9d8a",
   "metadata": {},
   "source": [
    "## Conversión de una imagen 2D en un vector 1D\n",
    "\n",
    "Las imágenes MNIST son imágenes cuadradas en miniatura en blanco y negro con 28x28 píxeles. A cada píxel se le asigna una intensidad (originalmente en una escala de 0 a 255). Para que la entrada sea útil para nosotros, necesitamos que estos estén organizados en un vector 1D usando una estrategia consistente, como se muestra en la figura siguiente. Nosotros podemos usar Flattenpara realizar esta tarea.\n"
   ]
  },
  {
   "cell_type": "code",
   "execution_count": 12,
   "id": "bfb188d5",
   "metadata": {},
   "outputs": [
    {
     "name": "stdout",
     "output_type": "stream",
     "text": [
      "(60000, 28, 28)\n"
     ]
    },
    {
     "name": "stderr",
     "output_type": "stream",
     "text": [
      "2021-12-08 14:35:28.651059: W tensorflow/core/framework/cpu_allocator_impl.cc:82] Allocation of 376320000 exceeds 10% of free system memory.\n",
      "2021-12-08 14:35:35.037196: W tensorflow/core/framework/cpu_allocator_impl.cc:82] Allocation of 188160000 exceeds 10% of free system memory.\n"
     ]
    },
    {
     "name": "stdout",
     "output_type": "stream",
     "text": [
      "(60000, 784)\n"
     ]
    }
   ],
   "source": [
    "# showing an example of the Flatten class and operation\n",
    "from tensorflow.keras.layers import Flatten\n",
    "flatten = Flatten(dtype='float32')\n",
    "\n",
    "\"original data shape\"\n",
    "print(x_train.shape)\n",
    "\n",
    "\"flattened shape\"\n",
    "print(flatten(x_train).shape)"
   ]
  },
  {
   "cell_type": "markdown",
   "id": "a1c8c3cb",
   "metadata": {},
   "source": [
    "## Asignar sesgo y ponderaciones a tensores nulos ¶\n",
    "\n",
    "Ahora vamos a crear los pesos y sesgos, para ello se utilizarán como matrices llenas de ceros. Los valores que elegimos aquí pueden ser críticos, pero cubriremos una mejor manera en la segunda parte, en lugar de este tipo de inicialización. Dado que estos valores se ajustarán durante el proceso de optimización, los definimos utilizando tf.Variable.\n",
    "\n",
    "NOTA: tf.Variablecrea variables ajustables que están en el espacio de nombres global, por lo que cualquier función que haga referencia a estas variables no necesita pasar las variables. Pero son globales, ¡así que tenga cuidado al nombrar!"
   ]
  },
  {
   "cell_type": "code",
   "execution_count": 13,
   "id": "e3dcdcc2",
   "metadata": {},
   "outputs": [],
   "source": [
    "# Weight tensor\n",
    "W = tf.Variable(tf.zeros([784, 10], tf.float32))\n",
    "# Bias tensor\n",
    "b = tf.Variable(tf.zeros([10], tf.float32))"
   ]
  },
  {
   "cell_type": "markdown",
   "id": "f5c4f40c",
   "metadata": {},
   "source": [
    "## Adding Weights and Biases to input¶\n",
    "\n",
    "The only difference for our next operation to the picture below is that we are using the mathematical convention for what is being executed in the illustration. The tf.matmul operation performs a matrix multiplication between x (inputs) and W (weights) and after the code add biases.\n"
   ]
  },
  {
   "cell_type": "markdown",
   "id": "6b2d1a6f",
   "metadata": {},
   "source": [
    "<img src=\"https://ibm.box.com/shared/static/88ksiymk1xkb10rgk0jwr3jw814jbfxo.png\" alt=\"HTML5 Icon\" style=\"width:350px\"> \n",
    "<div style=\"text-align:center\">Ilustración que muestra cómo se agregan pesos y sesgos a las neuronas / nodos. </div>"
   ]
  },
  {
   "cell_type": "code",
   "execution_count": 15,
   "id": "417b6594",
   "metadata": {},
   "outputs": [],
   "source": [
    "def forward(x):\n",
    "    return tf.matmul(x,W) + b"
   ]
  },
  {
   "cell_type": "markdown",
   "id": "ef121e65",
   "metadata": {},
   "source": [
    "## Softmax Regression\n",
    "\n",
    "Softmax is an activation function that is normally used in classification problems. It generates the probabilities for the output. For example, our model will not be 100% sure that one digit is the number nine, instead, the answer will be a distribution of probabilities where, if the model is right, the nine number will have a larger probability than the other other digits.\n",
    "\n",
    "For comparison, below is the one-hot vector for a nine digit label:\n"
   ]
  },
  {
   "cell_type": "code",
   "execution_count": null,
   "id": "6a97aed3",
   "metadata": {},
   "outputs": [],
   "source": []
  }
 ],
 "metadata": {
  "kernelspec": {
   "display_name": "Python 3 (ipykernel)",
   "language": "python",
   "name": "python3"
  },
  "language_info": {
   "codemirror_mode": {
    "name": "ipython",
    "version": 3
   },
   "file_extension": ".py",
   "mimetype": "text/x-python",
   "name": "python",
   "nbconvert_exporter": "python",
   "pygments_lexer": "ipython3",
   "version": "3.8.5"
  }
 },
 "nbformat": 4,
 "nbformat_minor": 5
}
