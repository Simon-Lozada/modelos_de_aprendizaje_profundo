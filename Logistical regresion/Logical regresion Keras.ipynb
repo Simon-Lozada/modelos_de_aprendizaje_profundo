{
 "cells": [
  {
   "cell_type": "code",
   "execution_count": 2,
   "id": "2bae3ace",
   "metadata": {
    "scrolled": false
   },
   "outputs": [
    {
     "data": {
      "text/html": [
       "<div>\n",
       "<style scoped>\n",
       "    .dataframe tbody tr th:only-of-type {\n",
       "        vertical-align: middle;\n",
       "    }\n",
       "\n",
       "    .dataframe tbody tr th {\n",
       "        vertical-align: top;\n",
       "    }\n",
       "\n",
       "    .dataframe thead th {\n",
       "        text-align: right;\n",
       "    }\n",
       "</style>\n",
       "<table border=\"1\" class=\"dataframe\">\n",
       "  <thead>\n",
       "    <tr style=\"text-align: right;\">\n",
       "      <th></th>\n",
       "      <th>mean radius</th>\n",
       "      <th>mean texture</th>\n",
       "      <th>mean perimeter</th>\n",
       "      <th>mean area</th>\n",
       "      <th>mean smoothness</th>\n",
       "      <th>mean compactness</th>\n",
       "      <th>mean concavity</th>\n",
       "      <th>mean concave points</th>\n",
       "      <th>mean symmetry</th>\n",
       "      <th>mean fractal dimension</th>\n",
       "      <th>...</th>\n",
       "      <th>worst texture</th>\n",
       "      <th>worst perimeter</th>\n",
       "      <th>worst area</th>\n",
       "      <th>worst smoothness</th>\n",
       "      <th>worst compactness</th>\n",
       "      <th>worst concavity</th>\n",
       "      <th>worst concave points</th>\n",
       "      <th>worst symmetry</th>\n",
       "      <th>worst fractal dimension</th>\n",
       "      <th>target</th>\n",
       "    </tr>\n",
       "  </thead>\n",
       "  <tbody>\n",
       "    <tr>\n",
       "      <th>0</th>\n",
       "      <td>17.99</td>\n",
       "      <td>10.38</td>\n",
       "      <td>122.80</td>\n",
       "      <td>1001.0</td>\n",
       "      <td>0.11840</td>\n",
       "      <td>0.27760</td>\n",
       "      <td>0.3001</td>\n",
       "      <td>0.14710</td>\n",
       "      <td>0.2419</td>\n",
       "      <td>0.07871</td>\n",
       "      <td>...</td>\n",
       "      <td>17.33</td>\n",
       "      <td>184.60</td>\n",
       "      <td>2019.0</td>\n",
       "      <td>0.1622</td>\n",
       "      <td>0.6656</td>\n",
       "      <td>0.7119</td>\n",
       "      <td>0.2654</td>\n",
       "      <td>0.4601</td>\n",
       "      <td>0.11890</td>\n",
       "      <td>0</td>\n",
       "    </tr>\n",
       "    <tr>\n",
       "      <th>1</th>\n",
       "      <td>20.57</td>\n",
       "      <td>17.77</td>\n",
       "      <td>132.90</td>\n",
       "      <td>1326.0</td>\n",
       "      <td>0.08474</td>\n",
       "      <td>0.07864</td>\n",
       "      <td>0.0869</td>\n",
       "      <td>0.07017</td>\n",
       "      <td>0.1812</td>\n",
       "      <td>0.05667</td>\n",
       "      <td>...</td>\n",
       "      <td>23.41</td>\n",
       "      <td>158.80</td>\n",
       "      <td>1956.0</td>\n",
       "      <td>0.1238</td>\n",
       "      <td>0.1866</td>\n",
       "      <td>0.2416</td>\n",
       "      <td>0.1860</td>\n",
       "      <td>0.2750</td>\n",
       "      <td>0.08902</td>\n",
       "      <td>0</td>\n",
       "    </tr>\n",
       "    <tr>\n",
       "      <th>2</th>\n",
       "      <td>19.69</td>\n",
       "      <td>21.25</td>\n",
       "      <td>130.00</td>\n",
       "      <td>1203.0</td>\n",
       "      <td>0.10960</td>\n",
       "      <td>0.15990</td>\n",
       "      <td>0.1974</td>\n",
       "      <td>0.12790</td>\n",
       "      <td>0.2069</td>\n",
       "      <td>0.05999</td>\n",
       "      <td>...</td>\n",
       "      <td>25.53</td>\n",
       "      <td>152.50</td>\n",
       "      <td>1709.0</td>\n",
       "      <td>0.1444</td>\n",
       "      <td>0.4245</td>\n",
       "      <td>0.4504</td>\n",
       "      <td>0.2430</td>\n",
       "      <td>0.3613</td>\n",
       "      <td>0.08758</td>\n",
       "      <td>0</td>\n",
       "    </tr>\n",
       "    <tr>\n",
       "      <th>3</th>\n",
       "      <td>11.42</td>\n",
       "      <td>20.38</td>\n",
       "      <td>77.58</td>\n",
       "      <td>386.1</td>\n",
       "      <td>0.14250</td>\n",
       "      <td>0.28390</td>\n",
       "      <td>0.2414</td>\n",
       "      <td>0.10520</td>\n",
       "      <td>0.2597</td>\n",
       "      <td>0.09744</td>\n",
       "      <td>...</td>\n",
       "      <td>26.50</td>\n",
       "      <td>98.87</td>\n",
       "      <td>567.7</td>\n",
       "      <td>0.2098</td>\n",
       "      <td>0.8663</td>\n",
       "      <td>0.6869</td>\n",
       "      <td>0.2575</td>\n",
       "      <td>0.6638</td>\n",
       "      <td>0.17300</td>\n",
       "      <td>0</td>\n",
       "    </tr>\n",
       "    <tr>\n",
       "      <th>4</th>\n",
       "      <td>20.29</td>\n",
       "      <td>14.34</td>\n",
       "      <td>135.10</td>\n",
       "      <td>1297.0</td>\n",
       "      <td>0.10030</td>\n",
       "      <td>0.13280</td>\n",
       "      <td>0.1980</td>\n",
       "      <td>0.10430</td>\n",
       "      <td>0.1809</td>\n",
       "      <td>0.05883</td>\n",
       "      <td>...</td>\n",
       "      <td>16.67</td>\n",
       "      <td>152.20</td>\n",
       "      <td>1575.0</td>\n",
       "      <td>0.1374</td>\n",
       "      <td>0.2050</td>\n",
       "      <td>0.4000</td>\n",
       "      <td>0.1625</td>\n",
       "      <td>0.2364</td>\n",
       "      <td>0.07678</td>\n",
       "      <td>0</td>\n",
       "    </tr>\n",
       "  </tbody>\n",
       "</table>\n",
       "<p>5 rows × 31 columns</p>\n",
       "</div>"
      ],
      "text/plain": [
       "   mean radius  mean texture  mean perimeter  mean area  mean smoothness  \\\n",
       "0        17.99         10.38          122.80     1001.0          0.11840   \n",
       "1        20.57         17.77          132.90     1326.0          0.08474   \n",
       "2        19.69         21.25          130.00     1203.0          0.10960   \n",
       "3        11.42         20.38           77.58      386.1          0.14250   \n",
       "4        20.29         14.34          135.10     1297.0          0.10030   \n",
       "\n",
       "   mean compactness  mean concavity  mean concave points  mean symmetry  \\\n",
       "0           0.27760          0.3001              0.14710         0.2419   \n",
       "1           0.07864          0.0869              0.07017         0.1812   \n",
       "2           0.15990          0.1974              0.12790         0.2069   \n",
       "3           0.28390          0.2414              0.10520         0.2597   \n",
       "4           0.13280          0.1980              0.10430         0.1809   \n",
       "\n",
       "   mean fractal dimension  ...  worst texture  worst perimeter  worst area  \\\n",
       "0                 0.07871  ...          17.33           184.60      2019.0   \n",
       "1                 0.05667  ...          23.41           158.80      1956.0   \n",
       "2                 0.05999  ...          25.53           152.50      1709.0   \n",
       "3                 0.09744  ...          26.50            98.87       567.7   \n",
       "4                 0.05883  ...          16.67           152.20      1575.0   \n",
       "\n",
       "   worst smoothness  worst compactness  worst concavity  worst concave points  \\\n",
       "0            0.1622             0.6656           0.7119                0.2654   \n",
       "1            0.1238             0.1866           0.2416                0.1860   \n",
       "2            0.1444             0.4245           0.4504                0.2430   \n",
       "3            0.2098             0.8663           0.6869                0.2575   \n",
       "4            0.1374             0.2050           0.4000                0.1625   \n",
       "\n",
       "   worst symmetry  worst fractal dimension  target  \n",
       "0          0.4601                  0.11890       0  \n",
       "1          0.2750                  0.08902       0  \n",
       "2          0.3613                  0.08758       0  \n",
       "3          0.6638                  0.17300       0  \n",
       "4          0.2364                  0.07678       0  \n",
       "\n",
       "[5 rows x 31 columns]"
      ]
     },
     "execution_count": 2,
     "metadata": {},
     "output_type": "execute_result"
    }
   ],
   "source": [
    "from sklearn import datasets\n",
    "import pandas as pd\n",
    "data = datasets.load_breast_cancer()\n",
    "\n",
    "# Lea el DataFrame, primero usando los datos de la función\n",
    "df = pd.DataFrame(data.data, columns = data.feature_names)# Agregue una columna de destino y rellénela con los datos de destino\n",
    "df['target'] = data.target# Show the first five rows\n",
    "df.head()"
   ]
  },
  {
   "cell_type": "code",
   "execution_count": 5,
   "id": "41b7d1b9",
   "metadata": {},
   "outputs": [],
   "source": [
    "from sklearn.model_selection import train_test_split\n",
    "\n",
    "#aquí hago que mi variable \"X\" sea igual al marco de datos \"df\", pero con las columnas \"Dirección\" y \"precio_venta\" eliminadas\n",
    "X = df.drop([\"target\"], axis = 1)\n",
    "#aquí creo una variable \"y\" con la columna \"precio_venta\" para mi marco de datos (df)\n",
    "y = df[\"target\"]\n",
    "\n",
    "X_train, X_test, y_train, y_test = train_test_split(X, y, test_size = 0.40, random_state = 101)"
   ]
  },
  {
   "cell_type": "markdown",
   "id": "ae7efe8c",
   "metadata": {},
   "source": [
    "## Capacidad¶\n",
    "\n",
    "La capacidad de un modelo se refiere al tamaño y la complejidad de los patrones que puede aprender. En el caso de las redes neuronales, esto dependerá en gran medida de la cantidad de neuronas que tenga y de cómo estén conectadas entre sí. Si parece que su red no está adaptando los datos, debería intentar aumentar su capacidad."
   ]
  },
  {
   "cell_type": "markdown",
   "id": "6e0358ed",
   "metadata": {},
   "source": [
    "## activación 'relu'\n",
    "\n",
    "La función de activación lineal rectificada o ReLU para abreviar es una función lineal por partes que generará la entrada directamente si es positiva; de lo contrario, generará cero. ... La función de activación lineal rectificada supera el problema del gradiente de desaparición, lo que permite que los modelos aprendan más rápido y funcionen mejor"
   ]
  },
  {
   "cell_type": "markdown",
   "id": "6b82c77b",
   "metadata": {},
   "source": [
    "## La función de pérdida¶\n",
    "\n",
    "Hemos visto cómo diseñar una arquitectura para una red, pero no hemos visto cómo decirle a una red qué problema resolver. Este es el trabajo de la función de pérdida.\n",
    "\n",
    "La función de pérdida mide la disparidad entre el valor real del objetivo y el valor que predice el modelo.\n",
    "\n",
    "Diferentes problemas requieren diferentes funciones de pérdida. Hemos estado analizando problemas de regresión, donde la tarea es predecir algún valor numérico: calorías en 80 cereales, calificación en calidad de vino tinto. Otras tareas de regresión podrían ser predecir el precio de una casa o la eficiencia de combustible de un automóvil.\n",
    "\n",
    "Una función de pérdida común para los problemas de regresión es el error absoluto medio o MAE. Para cada predicción y_pred, MAE mide la disparidad del objetivo verdadero y_true por una diferencia absoluta abs (y_true - y_pred).\n",
    "\n",
    "La pérdida total de MAE en un conjunto de datos es la media de todas estas diferencias absolutas."
   ]
  },
  {
   "cell_type": "code",
   "execution_count": 4,
   "id": "0fba27dc",
   "metadata": {
    "scrolled": true
   },
   "outputs": [
    {
     "name": "stderr",
     "output_type": "stream",
     "text": [
      "2021-12-03 21:54:56.442817: W tensorflow/stream_executor/platform/default/dso_loader.cc:64] Could not load dynamic library 'libcudart.so.11.0'; dlerror: libcudart.so.11.0: cannot open shared object file: No such file or directory; LD_LIBRARY_PATH: :/opt/oracle/instantclient_19_8\n",
      "2021-12-03 21:54:56.442894: I tensorflow/stream_executor/cuda/cudart_stub.cc:29] Ignore above cudart dlerror if you do not have a GPU set up on your machine.\n",
      "2021-12-03 21:54:59.239234: W tensorflow/stream_executor/platform/default/dso_loader.cc:64] Could not load dynamic library 'libcuda.so.1'; dlerror: libcuda.so.1: cannot open shared object file: No such file or directory; LD_LIBRARY_PATH: :/opt/oracle/instantclient_19_8\n",
      "2021-12-03 21:54:59.239325: W tensorflow/stream_executor/cuda/cuda_driver.cc:269] failed call to cuInit: UNKNOWN ERROR (303)\n",
      "2021-12-03 21:54:59.239369: I tensorflow/stream_executor/cuda/cuda_diagnostics.cc:156] kernel driver does not appear to be running on this host (virtual-machine): /proc/driver/nvidia/version does not exist\n",
      "2021-12-03 21:54:59.240250: I tensorflow/core/platform/cpu_feature_guard.cc:151] This TensorFlow binary is optimized with oneAPI Deep Neural Network Library (oneDNN) to use the following CPU instructions in performance-critical operations:  AVX2 FMA\n",
      "To enable them in other operations, rebuild TensorFlow with the appropriate compiler flags.\n"
     ]
    }
   ],
   "source": [
    "from tensorflow import keras\n",
    "from tensorflow.keras import layers\n",
    "\n",
    "#Construimos el modelo#\n",
    "input_shape = [30]#numero de entradas(inputs)\n",
    "\n",
    "model = keras.Sequential([\n",
    "    #capa de normalizacion (Batch Normalization)\n",
    "    #Y si lo agrega como la primera capa de su red, puede actuar como una especie de preprocesador adaptativo,\n",
    "    #Remplazando algo como el Escalador estándar de Sci-Kit Learn.\n",
    "    layers.BatchNormalization(input_shape = input_shape),\n",
    "    \n",
    "    \n",
    "    #La capa oculta de ReLU\n",
    "    layers.Dense(units = 256, activation = \"relu\"),\n",
    "    #capa de normalizacion (Batch Normalization)\n",
    "    layers.BatchNormalization(),\n",
    "    #La \"capa de abandono\"(Dropout), que puede ayudar a corregir el sobreajuste.\n",
    "    layers.Dropout(0.3),\n",
    "    \n",
    "    \n",
    "    #La capa oculta de ReLU\n",
    "    layers.Dense(units = 256, activation = \"relu\"),\n",
    "    #capa de normalizacion (Batch Normalization)\n",
    "    layers.BatchNormalization(),\n",
    "    #La \"capa de abandono\"(Dropout), que puede ayudar a corregir el sobreajuste.\n",
    "    layers.Dropout(0.3),\n",
    "    \n",
    "    \n",
    "    #la capa de salida, usando la activación sigmoidea\n",
    "    layers.Dense(units = 1, activation = \"sigmoid\"),\n",
    "])\n"
   ]
  },
  {
   "cell_type": "markdown",
   "id": "70fe0987",
   "metadata": {},
   "source": [
    "La capacidad está determinada por el tamaño y la complejidad de los patrones que su modelo puede aprender.\n",
    "\n",
    "\n",
    "Puede aumentar la capacidad de una red haciéndola más ancha (más unidades en capas existentes) o más profunda (agregando más capas). A las redes más grandes les resulta más fácil aprender relaciones más lineales, mientras que las redes más profundas prefieren las más no lineales. Cuál es mejor dependencia del conjunto de datos."
   ]
  },
  {
   "cell_type": "code",
   "execution_count": 6,
   "id": "f3e2ec28",
   "metadata": {},
   "outputs": [],
   "source": [
    "model.compile(  optimizer = 'adam',           #Un \"optimizador\"(optimizer) que puede decirle a la red cómo cambiar sus pesos. Aquí usé el optimizador \"adam\" (pero hay más)\n",
    "    \n",
    "                loss = 'binary_crossentropy', #Una \"loss function\" que mide qué tan buenas son las predicciones de la red (aquí utilicé el error absoluto medio)\n",
    "    \n",
    "                metrics = ['binary_accuracy'])#Aquí utilicé las métricas \"precisión binaria\" porque este es un algoritmo clasificador\n",
    "\n"
   ]
  },
  {
   "cell_type": "code",
   "execution_count": 9,
   "id": "a2e34541",
   "metadata": {
    "scrolled": true
   },
   "outputs": [
    {
     "name": "stdout",
     "output_type": "stream",
     "text": [
      "Epoch 1/200\n",
      "1/1 [==============================] - 0s 90ms/step - loss: 0.4704 - binary_accuracy: 0.7918 - val_loss: 1.8767 - val_binary_accuracy: 0.3640\n",
      "Epoch 2/200\n",
      "1/1 [==============================] - 0s 37ms/step - loss: 0.2684 - binary_accuracy: 0.8974 - val_loss: 2.6425 - val_binary_accuracy: 0.3640\n",
      "Epoch 3/200\n",
      "1/1 [==============================] - 0s 54ms/step - loss: 0.1840 - binary_accuracy: 0.9413 - val_loss: 3.2908 - val_binary_accuracy: 0.3640\n",
      "Epoch 4/200\n",
      "1/1 [==============================] - 0s 44ms/step - loss: 0.1309 - binary_accuracy: 0.9589 - val_loss: 3.8150 - val_binary_accuracy: 0.3640\n",
      "Epoch 5/200\n",
      "1/1 [==============================] - 0s 47ms/step - loss: 0.1043 - binary_accuracy: 0.9619 - val_loss: 4.2233 - val_binary_accuracy: 0.3640\n",
      "Epoch 6/200\n",
      "1/1 [==============================] - 0s 54ms/step - loss: 0.0812 - binary_accuracy: 0.9736 - val_loss: 4.5349 - val_binary_accuracy: 0.3640\n"
     ]
    }
   ],
   "source": [
    "#Interpretar las curvas de aprendizaje #\n",
    "early_stopping = keras.callbacks.EarlyStopping(\n",
    "    patience = 5,               #cuantas épocas esperar antes de parar\n",
    "    min_delta = 0.001,          #cantidad mínima de cambio para contar como una mejora\n",
    "    restore_best_weights = True,\n",
    ")\n",
    "\n",
    "#Aqui entreno el modelo#\n",
    "history = model.fit(\n",
    "    X_train, y_train,\n",
    "    validation_data = (X_test, y_test),#Validación de datos utilizando datos de prueba\n",
    "    batch_size = 512,                  #Cantidad de datos por bloque\n",
    "    epochs = 200,                      #Numero de epocas de entrenamiento\n",
    "    callbacks = [early_stopping],      #Utilizar la interpretación de las curvas de aprendizaje\n",
    ")"
   ]
  },
  {
   "cell_type": "markdown",
   "id": "266fc304",
   "metadata": {},
   "source": [
    "## Precisión y entropía cruzada\n",
    "\n",
    "La precisión es una de las muchas métricas que se utilizan para medir el éxito en un problema de clasificación. La precisión es la relación entre las predicciones correctas y las predicciones totales: precisión = número_correcto / total. Un modelo que siempre predice correctamente tendría una puntuación de precisión de 1.0. En igualdad de condiciones, la precisión es una métrica razonable para usar siempre que las clases en el conjunto de datos ocurren con aproximadamente la misma frecuencia.\n",
    "\n",
    "El problema con la precisión (y la mayoría de las otras métricas de clasificación) es que no se puede usar como una función de pérdida. SGD necesita una función de pérdida que cambie suavemente, pero la precisión, siendo una proporción de conteos, cambia en \"saltos\". Entonces, tenemos que elegir un sustituto para que actúe como función de pérdida. Este sustituto es la función de entropía cruzada.\n",
    "\n",
    "Ahora, recuerde que la función de pérdida define el objetivo de la red durante el entrenamiento. Con la regresión, nuestro objetivo era minimizar la distancia entre el resultado esperado y el resultado previsto. Elegimos MAE para medir esta distancia.\n",
    "\n",
    "Para la clasificación, lo que queremos en cambio es una distancia entre probabilidades, y esto es lo que proporciona la entropía cruzada. La entropía cruzada es una especie de medida de la distancia de una distribución de probabilidad a otra."
   ]
  },
  {
   "cell_type": "code",
   "execution_count": 10,
   "id": "f9e74198",
   "metadata": {
    "scrolled": false
   },
   "outputs": [
    {
     "data": {
      "text/plain": [
       "<AxesSubplot:title={'center':'Accuracy'}>"
      ]
     },
     "execution_count": 10,
     "metadata": {},
     "output_type": "execute_result"
    },
    {
     "data": {
      "image/png": "[encoded data removed]",
      "text/plain": [
       "<Figure size 432x288 with 1 Axes>"
      ]
     },
     "metadata": {
      "needs_background": "light"
     },
     "output_type": "display_data"
    },
    {
     "data": {
      "image/png": "[encoded data removed]",
      "text/plain": [
       "<Figure size 432x288 with 1 Axes>"
      ]
     },
     "metadata": {
      "needs_background": "light"
     },
     "output_type": "display_data"
    }
   ],
   "source": [
    "history_df = pd.DataFrame(history.history)\n",
    "history_df.loc[:, ['loss', 'val_loss']].plot(title=\"Cross-entropy\")\n",
    "history_df.loc[:, ['binary_accuracy', 'val_binary_accuracy']].plot(title=\"Accuracy\")"
   ]
  },
  {
   "cell_type": "markdown",
   "id": "4dfddd55",
   "metadata": {},
   "source": [
    "Puede ver que Keras lo mantendrá actualizado sobre la pérdida a medida que el modelo entrena.\n",
    "\n",
    "Sin embargo, a menudo, una mejor manera de ver la pérdida es trazarla. De hecho, el método de ajuste mantiene un registro de la pérdida producida durante el entrenamiento en un objeto Historial. Convertiremos los datos a un marco de datos de Pandas, lo que facilita el trazado"
   ]
  },
  {
   "cell_type": "code",
   "execution_count": 11,
   "id": "1a6ab2cd",
   "metadata": {},
   "outputs": [
    {
     "data": {
      "image/png": "[encoded data removed]",
      "text/plain": [
       "<Figure size 432x288 with 1 Axes>"
      ]
     },
     "metadata": {
      "needs_background": "light"
     },
     "output_type": "display_data"
    }
   ],
   "source": [
    "# convertir el historial de entrenamiento en un marco de datos\n",
    "history_df = pd.DataFrame(history.history)\n",
    "# utilizar el método de parcela nativa de Pandas\n",
    "history_df['loss'].plot();"
   ]
  }
 ],
 "metadata": {
  "kernelspec": {
   "display_name": "Python 3 (ipykernel)",
   "language": "python",
   "name": "python3"
  },
  "language_info": {
   "codemirror_mode": {
    "name": "ipython",
    "version": 3
   },
   "file_extension": ".py",
   "mimetype": "text/x-python",
   "name": "python",
   "nbconvert_exporter": "python",
   "pygments_lexer": "ipython3",
   "version": "3.8.2"
  }
 },
 "nbformat": 4,
 "nbformat_minor": 5
}
