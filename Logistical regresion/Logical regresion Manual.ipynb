{
 "cells": [
  {
   "cell_type": "code",
   "execution_count": 1,
   "id": "e593d985",
   "metadata": {
    "scrolled": true
   },
   "outputs": [
    {
     "name": "stderr",
     "output_type": "stream",
     "text": [
      "2021-12-04 20:17:31.288715: W tensorflow/stream_executor/platform/default/dso_loader.cc:64] Could not load dynamic library 'libcudart.so.11.0'; dlerror: libcudart.so.11.0: cannot open shared object file: No such file or directory; LD_LIBRARY_PATH: :/opt/oracle/instantclient_19_8\n",
      "2021-12-04 20:17:31.288768: I tensorflow/stream_executor/cuda/cudart_stub.cc:29] Ignore above cudart dlerror if you do not have a GPU set up on your machine.\n"
     ]
    }
   ],
   "source": [
    "import tensorflow as tf\n",
    "import pandas as pd\n",
    "import numpy as np\n",
    "import time\n",
    "from sklearn.datasets import load_iris\n",
    "from sklearn.model_selection import train_test_split\n",
    "import matplotlib.pyplot as plt"
   ]
  },
  {
   "cell_type": "code",
   "execution_count": 2,
   "id": "5132c30c",
   "metadata": {},
   "outputs": [],
   "source": [
    "iris = load_iris()\n",
    "iris_X, iris_y = iris.data[:-1,:], iris.target[:-1]\n",
    "iris_y= pd.get_dummies(iris_y).values\n",
    "trainX, testX, trainY, testY = train_test_split(iris_X, iris_y, test_size=0.33, random_state=42)"
   ]
  },
  {
   "cell_type": "markdown",
   "id": "9e2e13a6",
   "metadata": {},
   "source": [
    "Now we define x and y. These variables will hold our iris data (both the features and label matrices) We also need to give them shapes which correspond to the shape of our data.\n"
   ]
  },
  {
   "cell_type": "code",
   "execution_count": 3,
   "id": "84e669f2",
   "metadata": {},
   "outputs": [
    {
     "name": "stdout",
     "output_type": "stream",
     "text": [
      "numFeatures is :  4\n",
      "numLabels is :  3\n"
     ]
    }
   ],
   "source": [
    "# numFeatures is the number of features in our input data.\n",
    "# In the iris dataset, this number is '4'.\n",
    "numFeatures = trainX.shape[1]\n",
    "print('numFeatures is : ', numFeatures )\n",
    "# numLabels is the number of classes our data points can be in.\n",
    "# In the iris dataset, this number is '3'.\n",
    "numLabels = trainY.shape[1]\n",
    "print('numLabels is : ', numLabels )\n",
    "\n",
    "#X = tf.Variable( np.identity(numFeatures), tf.TensorShape(numFeatures),dtype='float32') # Iris has 4 features, so X is a tensor to hold our data.\n",
    "#yGold = tf.Variable(np.array([1,1,1]),shape=tf.TensorShape(numLabels),dtype='float32') # This will be our correct answers matrix for 3 classes."
   ]
  },
  {
   "cell_type": "code",
   "execution_count": 4,
   "id": "bd12ab7c",
   "metadata": {},
   "outputs": [
    {
     "name": "stderr",
     "output_type": "stream",
     "text": [
      "2021-12-04 20:18:59.707214: W tensorflow/stream_executor/platform/default/dso_loader.cc:64] Could not load dynamic library 'libcuda.so.1'; dlerror: libcuda.so.1: cannot open shared object file: No such file or directory; LD_LIBRARY_PATH: :/opt/oracle/instantclient_19_8\n",
      "2021-12-04 20:18:59.707267: W tensorflow/stream_executor/cuda/cuda_driver.cc:269] failed call to cuInit: UNKNOWN ERROR (303)\n",
      "2021-12-04 20:18:59.707292: I tensorflow/stream_executor/cuda/cuda_diagnostics.cc:156] kernel driver does not appear to be running on this host (virtual-machine): /proc/driver/nvidia/version does not exist\n",
      "2021-12-04 20:18:59.707710: I tensorflow/core/platform/cpu_feature_guard.cc:151] This TensorFlow binary is optimized with oneAPI Deep Neural Network Library (oneDNN) to use the following CPU instructions in performance-critical operations:  AVX2 FMA\n",
      "To enable them in other operations, rebuild TensorFlow with the appropriate compiler flags.\n"
     ]
    }
   ],
   "source": [
    "trainX = tf.constant(trainX, dtype='float32')\n",
    "trainY = tf.constant(trainY, dtype='float32')\n",
    "testX = tf.constant(testX, dtype='float32')\n",
    "testY = tf.constant(testY, dtype='float32')"
   ]
  },
  {
   "cell_type": "markdown",
   "id": "dea29fca",
   "metadata": {},
   "source": [
    "<h3>Set model weights and bias</h3>\n",
    "\n",
    "Much like Linear Regression, we need a shared variable weight matrix for Logistic Regression. We initialize both <code>W</code> and <code>b</code> as tensors full of zeros. Since we are going to learn <code>W</code> and <code>b</code>, their initial value does not matter too much. These variables are the objects which define the structure of our regression model, and we can save them after they have been trained so we can reuse them later.\n",
    "\n",
    "We define two TensorFlow variables as our parameters. These variables will hold the weights and biases of our logistic regression and they will be continually updated during training.\n",
    "\n",
    "Notice that <code>W</code> has a shape of \\[4, 3] because we want to multiply the 4-dimensional input vectors by it to produce 3-dimensional vectors of evidence for the difference classes. <code>b</code> has a shape of \\[3] so we can add it to the output. TensorFlow variables need to be initialized with values, e.g. with zeros."
   ]
  },
  {
   "cell_type": "code",
   "execution_count": 5,
   "id": "a97f0f27",
   "metadata": {},
   "outputs": [],
   "source": [
    "W = tf.Variable(tf.zeros([4, 3]))  # 4-dimensional input and  3 classes\n",
    "b = tf.Variable(tf.zeros([3])) # 3-dimensional output [0,0,1],[0,1,0],[1,0,0]"
   ]
  },
  {
   "cell_type": "code",
   "execution_count": 6,
   "id": "aebb9ecd",
   "metadata": {},
   "outputs": [],
   "source": [
    "#Randomly sample from a normal distribution with standard deviation .01\n",
    "\n",
    "weights = tf.Variable(tf.random.normal([numFeatures,numLabels],\n",
    "                                       mean=0.,\n",
    "                                       stddev=0.01,\n",
    "                                       name=\"weights\"),dtype='float32')\n",
    "\n",
    "\n",
    "bias = tf.Variable(tf.random.normal([1,numLabels],\n",
    "                                    mean=0.,\n",
    "                                    stddev=0.01,\n",
    "                                    name=\"bias\"))"
   ]
  },
  {
   "cell_type": "markdown",
   "id": "50afbe3c",
   "metadata": {},
   "source": [
    "<h3>Logistic Regression model</h3>\n",
    "\n",
    "We now define our operations in order to properly run the Logistic Regression. Logistic regression is typically thought of as a single equation:\n",
    "\n",
    "$$\n",
    "ŷ =sigmoid(WX+b)\n",
    "$$\n",
    "\n",
    "However, for the sake of clarity, we can have it broken into its three main components:\n",
    "\n",
    "*   a weight times features matrix multiplication operation,\n",
    "*   a summation of the weighted features and a bias term,\n",
    "*   and finally the application of a sigmoid function.\n",
    "\n",
    "As such, you will find these components defined as three separate operations below.\n"
   ]
  },
  {
   "cell_type": "code",
   "execution_count": 7,
   "id": "c89f499a",
   "metadata": {},
   "outputs": [],
   "source": [
    "# Three-component breakdown of the Logistic Regression equation.\n",
    "# Note that these feed into each other.\n",
    "def logistic_regression(x):\n",
    "    apply_weights_OP = tf.matmul(x, weights, name=\"apply_weights\")\n",
    "    add_bias_OP = tf.add(apply_weights_OP, bias, name=\"add_bias\") \n",
    "    activation_OP = tf.nn.sigmoid(add_bias_OP, name=\"activation\")\n",
    "    return activation_OP"
   ]
  },
  {
   "cell_type": "markdown",
   "id": "c5a657d2",
   "metadata": {},
   "source": [
    "<a id=\"ref3\"></a>\n",
    "\n",
    "<h2>Training</h2>\n",
    "\n",
    "The learning algorithm is how we search for the best weight vector (${\\\\\\bf w}$). This search is an optimization problem looking for the hypothesis that optimizes an error/cost measure.\n",
    "\n",
    "<b>What tells us that our model is bad?</b>\\\n",
    "The Cost or Loss of the model, so what we want is to minimize that.\n",
    "\n",
    "<h3>Cost function</h3>\n",
    "Before defining our cost function, we need to define how long we are going to train and how should we define the learning rate."
   ]
  },
  {
   "cell_type": "code",
   "execution_count": 9,
   "id": "e65e65c0",
   "metadata": {},
   "outputs": [],
   "source": [
    "# Number of Epochs in our training\n",
    "numEpochs = 700\n",
    "\n",
    "# Defining our learning rate iterations (decay)\n",
    "learningRate = tf.keras.optimizers.schedules.ExponentialDecay(initial_learning_rate=0.0008,\n",
    "                                          decay_steps=trainX.shape[0],\n",
    "                                          decay_rate= 0.95,\n",
    "                                          staircase=True)"
   ]
  },
  {
   "cell_type": "markdown",
   "id": "7728d343",
   "metadata": {},
   "source": [
    "<b>What is the cost function in our model?</b>\\\n",
    "The cost function we are going to utilize is the Squared Mean Error loss function.\n",
    "\n",
    "<b>How to minimize the cost function?</b>\\\n",
    "We can't use <b>least-squares linear regression</b> here, so we will use <a href=\"http://en.wikipedia.org/wiki/Gradient_descent?utm_medium=Exinfluencer&utm_source=Exinfluencer&utm_content=000026UJ&utm_term=10006555&utm_id=NA-SkillsNetwork-Channel-SkillsNetworkCoursesIBMDeveloperSkillsNetworkDL0120ENSkillsNetwork20629446-2021-01-01\">gradient descent</a> instead. Specifically, we will use batch gradient descent which calculates the gradient from all data points in the data set.\n"
   ]
  },
  {
   "cell_type": "code",
   "execution_count": 10,
   "id": "b725de64",
   "metadata": {},
   "outputs": [],
   "source": [
    "#Defining our cost function - Squared Mean Error\n",
    "loss_object = tf.keras.losses.MeanSquaredLogarithmicError()\n",
    "optimizer = tf.keras.optimizers.SGD(learningRate)"
   ]
  },
  {
   "cell_type": "markdown",
   "id": "f6f19fa1",
   "metadata": {},
   "source": [
    "We also want some additional operations to keep track of our model's efficiency over time. We can do this like so:\n"
   ]
  },
  {
   "cell_type": "code",
   "execution_count": 12,
   "id": "76d8ae39",
   "metadata": {},
   "outputs": [],
   "source": [
    "# Accuracy metric.\n",
    "def accuracy(y_pred, y_true):\n",
    "# Predicted class is the index of the highest score in prediction vector (i.e. argmax).\n",
    "\n",
    "    correct_prediction = tf.equal(tf.argmax(y_pred, 1), tf.argmax(y_true, 1))\n",
    "\n",
    "    return tf.reduce_mean(tf.cast(correct_prediction, tf.float32))"
   ]
  },
  {
   "cell_type": "markdown",
   "id": "ab675e7e",
   "metadata": {},
   "source": [
    "We first wrap computation inside a GradientTape for automatic differentiation. Then we compute gradients and update W and b."
   ]
  },
  {
   "cell_type": "code",
   "execution_count": 13,
   "id": "5944a7eb",
   "metadata": {},
   "outputs": [],
   "source": [
    "# Optimization process. \n",
    "\n",
    "def run_optimization(x, y):\n",
    "    with tf.GradientTape() as g:\n",
    "        pred = logistic_regression(x)\n",
    "        loss = loss_object(pred, y)\n",
    "    gradients = g.gradient(loss, [weights, bias])\n",
    "    optimizer.apply_gradients(zip(gradients, [weights, bias]))"
   ]
  },
  {
   "cell_type": "markdown",
   "id": "befa0d27",
   "metadata": {},
   "source": [
    "Now we move on to actually running our operations. We will start with the operations involved in the prediction phase (i.e. the logistic regression itself).\n",
    "\n",
    "Now we can define and run the actual training loop, like this:\n"
   ]
  },
  {
   "cell_type": "code",
   "execution_count": 14,
   "id": "11badef8",
   "metadata": {},
   "outputs": [
    {
     "name": "stdout",
     "output_type": "stream",
     "text": [
      "step 0, training accuracy 0.42, loss 0.140304, change in loss 0.140304\n",
      "step 10, training accuracy 0.58, loss 0.139658, change in loss 0.000645518\n",
      "step 20, training accuracy 0.68, loss 0.139021, change in loss 0.000637487\n",
      "step 30, training accuracy 0.7, loss 0.138392, change in loss 0.000629365\n",
      "step 40, training accuracy 0.7, loss 0.13777, change in loss 0.000621215\n",
      "step 50, training accuracy 0.7, loss 0.137157, change in loss 0.000613034\n",
      "step 60, training accuracy 0.7, loss 0.136553, change in loss 0.000604764\n",
      "step 70, training accuracy 0.7, loss 0.135956, change in loss 0.000596493\n",
      "step 80, training accuracy 0.7, loss 0.135368, change in loss 0.000588208\n",
      "step 90, training accuracy 0.7, loss 0.134788, change in loss 0.000579894\n",
      "step 100, training accuracy 0.7, loss 0.134222, change in loss 0.000565872\n",
      "step 110, training accuracy 0.7, loss 0.133687, change in loss 0.000535354\n",
      "step 120, training accuracy 0.7, loss 0.133159, change in loss 0.000527829\n",
      "step 130, training accuracy 0.7, loss 0.132639, change in loss 0.000520334\n",
      "step 140, training accuracy 0.7, loss 0.132126, change in loss 0.000512823\n",
      "step 150, training accuracy 0.66, loss 0.13162, change in loss 0.000505358\n",
      "step 160, training accuracy 0.58, loss 0.131122, change in loss 0.000497907\n",
      "step 170, training accuracy 0.54, loss 0.130632, change in loss 0.000490472\n",
      "step 180, training accuracy 0.42, loss 0.130149, change in loss 0.000483081\n",
      "step 190, training accuracy 0.36, loss 0.129673, change in loss 0.000475734\n",
      "step 200, training accuracy 0.34, loss 0.129212, change in loss 0.000461429\n",
      "step 210, training accuracy 0.34, loss 0.128773, change in loss 0.000438333\n",
      "step 220, training accuracy 0.32, loss 0.128342, change in loss 0.000431821\n",
      "step 230, training accuracy 0.32, loss 0.127916, change in loss 0.000425324\n",
      "step 240, training accuracy 0.32, loss 0.127497, change in loss 0.000418887\n",
      "step 250, training accuracy 0.32, loss 0.127085, change in loss 0.000412494\n",
      "step 260, training accuracy 0.32, loss 0.126679, change in loss 0.000406191\n",
      "step 270, training accuracy 0.32, loss 0.126279, change in loss 0.000399888\n",
      "step 280, training accuracy 0.32, loss 0.125885, change in loss 0.000393644\n",
      "step 290, training accuracy 0.32, loss 0.125498, change in loss 0.000387505\n",
      "step 300, training accuracy 0.32, loss 0.125124, change in loss 0.000373796\n",
      "step 310, training accuracy 0.32, loss 0.124767, change in loss 0.000356831\n",
      "step 320, training accuracy 0.32, loss 0.124416, change in loss 0.000351414\n",
      "step 330, training accuracy 0.32, loss 0.12407, change in loss 0.000346079\n",
      "step 340, training accuracy 0.32, loss 0.123729, change in loss 0.000340775\n",
      "step 350, training accuracy 0.32, loss 0.123393, change in loss 0.000335537\n",
      "step 360, training accuracy 0.32, loss 0.123063, change in loss 0.000330381\n",
      "step 370, training accuracy 0.32, loss 0.122738, change in loss 0.000325255\n",
      "step 380, training accuracy 0.32, loss 0.122417, change in loss 0.000320189\n",
      "step 390, training accuracy 0.32, loss 0.122102, change in loss 0.000315204\n",
      "step 400, training accuracy 0.32, loss 0.1218, change in loss 0.000302561\n",
      "step 410, training accuracy 0.32, loss 0.121509, change in loss 0.000290371\n",
      "step 420, training accuracy 0.32, loss 0.121223, change in loss 0.000286005\n",
      "step 430, training accuracy 0.32, loss 0.120942, change in loss 0.000281721\n",
      "step 440, training accuracy 0.32, loss 0.120664, change in loss 0.000277512\n",
      "step 450, training accuracy 0.32, loss 0.120391, change in loss 0.000273302\n",
      "step 460, training accuracy 0.32, loss 0.120122, change in loss 0.000269182\n",
      "step 470, training accuracy 0.32, loss 0.119856, change in loss 0.000265121\n",
      "step 480, training accuracy 0.32, loss 0.119595, change in loss 0.000261113\n",
      "step 490, training accuracy 0.32, loss 0.119338, change in loss 0.000257134\n",
      "step 500, training accuracy 0.32, loss 0.119092, change in loss 0.000245705\n",
      "step 510, training accuracy 0.32, loss 0.118855, change in loss 0.000237107\n",
      "step 520, training accuracy 0.32, loss 0.118622, change in loss 0.000233673\n",
      "step 530, training accuracy 0.32, loss 0.118391, change in loss 0.000230305\n",
      "step 540, training accuracy 0.32, loss 0.118164, change in loss 0.000226967\n",
      "step 550, training accuracy 0.32, loss 0.117941, change in loss 0.000223674\n",
      "step 560, training accuracy 0.32, loss 0.11772, change in loss 0.000220433\n",
      "step 570, training accuracy 0.32, loss 0.117503, change in loss 0.000217229\n",
      "step 580, training accuracy 0.32, loss 0.117289, change in loss 0.000214085\n",
      "step 590, training accuracy 0.32, loss 0.117078, change in loss 0.000210978\n",
      "step 600, training accuracy 0.32, loss 0.116877, change in loss 0.000200681\n",
      "step 610, training accuracy 0.32, loss 0.116683, change in loss 0.00019481\n",
      "step 620, training accuracy 0.32, loss 0.11649, change in loss 0.000192143\n",
      "step 630, training accuracy 0.32, loss 0.116301, change in loss 0.000189491\n",
      "step 640, training accuracy 0.32, loss 0.116114, change in loss 0.000186868\n",
      "step 650, training accuracy 0.32, loss 0.11593, change in loss 0.000184312\n",
      "step 660, training accuracy 0.32, loss 0.115748, change in loss 0.000181764\n",
      "step 670, training accuracy 0.32, loss 0.115569, change in loss 0.000179261\n",
      "step 680, training accuracy 0.32, loss 0.115392, change in loss 0.000176817\n",
      "step 690, training accuracy 0.32, loss 0.115218, change in loss 0.000174381\n",
      "final accuracy on test set: 0.32\n"
     ]
    }
   ],
   "source": [
    "# Initialize reporting variables\n",
    "display_step = 10\n",
    "epoch_values = []\n",
    "accuracy_values = []\n",
    "loss_values = []\n",
    "loss = 0\n",
    "diff = 1\n",
    "# Training epochs\n",
    "for i in range(numEpochs):\n",
    "    if i > 1 and diff < .0001:\n",
    "        print(\"change in loss %g; convergence.\"%diff)\n",
    "        break\n",
    "    else:\n",
    "        # Run training step\n",
    "        run_optimization(trainX, trainY)\n",
    "        \n",
    "        # Report occasional stats\n",
    "        if i % display_step == 0:\n",
    "            # Add epoch to epoch_values\n",
    "            epoch_values.append(i)\n",
    "            \n",
    "            pred = logistic_regression(testX)\n",
    "\n",
    "            newLoss = loss_object(pred, testY)\n",
    "            # Add loss to live graphing variable\n",
    "            loss_values.append(newLoss)\n",
    "            \n",
    "            # Generate accuracy stats on test data\n",
    "            acc = accuracy(pred, testY)\n",
    "            accuracy_values.append(acc)\n",
    "            \n",
    "    \n",
    "            # Re-assign values for variables\n",
    "            diff = abs(newLoss - loss)\n",
    "            loss = newLoss\n",
    "\n",
    "            #generate print statements\n",
    "            print(\"step %d, training accuracy %g, loss %g, change in loss %g\"%(i, acc, newLoss, diff))\n",
    "\n",
    "        \n",
    "\n",
    "          \n",
    "\n",
    "# How well do we perform on held-out test data?\n",
    "print(\"final accuracy on test set: %s\" %acc.numpy())"
   ]
  },
  {
   "cell_type": "markdown",
   "id": "84377dd2",
   "metadata": {},
   "source": [
    "Why don't we plot the loss to see how it behaves?\n"
   ]
  },
  {
   "cell_type": "code",
   "execution_count": 15,
   "id": "0538d903",
   "metadata": {},
   "outputs": [
    {
     "data": {
      "image/png": "[encoded data removed]",
      "text/plain": [
       "<Figure size 432x288 with 1 Axes>"
      ]
     },
     "metadata": {
      "needs_background": "light"
     },
     "output_type": "display_data"
    }
   ],
   "source": [
    "%matplotlib inline\n",
    "import numpy as np\n",
    "import matplotlib.pyplot as plt\n",
    "plt.xlabel(\"Epoch\")\n",
    "plt.ylabel(\"Loss\")\n",
    "plt.plot(loss_values)\n",
    "plt.show()"
   ]
  },
  {
   "cell_type": "markdown",
   "id": "0e835fe2",
   "metadata": {},
   "source": [
    "Try changing the parameters such as the length of training, and maybe some operations to see how the model behaves. Does it take much longer? How is the performance?\n"
   ]
  },
  {
   "cell_type": "code",
   "execution_count": null,
   "id": "391b540c",
   "metadata": {},
   "outputs": [],
   "source": []
  }
 ],
 "metadata": {
  "kernelspec": {
   "display_name": "Python 3 (ipykernel)",
   "language": "python",
   "name": "python3"
  },
  "language_info": {
   "codemirror_mode": {
    "name": "ipython",
    "version": 3
   },
   "file_extension": ".py",
   "mimetype": "text/x-python",
   "name": "python",
   "nbconvert_exporter": "python",
   "pygments_lexer": "ipython3",
   "version": "3.8.5"
  }
 },
 "nbformat": 4,
 "nbformat_minor": 5
}
