{
 "cells": [
  {
   "cell_type": "code",
   "execution_count": 1,
   "id": "2a364d23",
   "metadata": {},
   "outputs": [
    {
     "data": {
      "text/html": [
       "<div>\n",
       "<style scoped>\n",
       "    .dataframe tbody tr th:only-of-type {\n",
       "        vertical-align: middle;\n",
       "    }\n",
       "\n",
       "    .dataframe tbody tr th {\n",
       "        vertical-align: top;\n",
       "    }\n",
       "\n",
       "    .dataframe thead th {\n",
       "        text-align: right;\n",
       "    }\n",
       "</style>\n",
       "<table border=\"1\" class=\"dataframe\">\n",
       "  <thead>\n",
       "    <tr style=\"text-align: right;\">\n",
       "      <th></th>\n",
       "      <th>CRIM</th>\n",
       "      <th>ZN</th>\n",
       "      <th>INDUS</th>\n",
       "      <th>CHAS</th>\n",
       "      <th>NOX</th>\n",
       "      <th>RM</th>\n",
       "      <th>AGE</th>\n",
       "      <th>DIS</th>\n",
       "      <th>RAD</th>\n",
       "      <th>TAX</th>\n",
       "      <th>PTRATIO</th>\n",
       "      <th>B</th>\n",
       "      <th>LSTAT</th>\n",
       "      <th>target</th>\n",
       "    </tr>\n",
       "  </thead>\n",
       "  <tbody>\n",
       "    <tr>\n",
       "      <th>0</th>\n",
       "      <td>0.00632</td>\n",
       "      <td>18.0</td>\n",
       "      <td>2.31</td>\n",
       "      <td>0.0</td>\n",
       "      <td>0.538</td>\n",
       "      <td>6.575</td>\n",
       "      <td>65.2</td>\n",
       "      <td>4.0900</td>\n",
       "      <td>1.0</td>\n",
       "      <td>296.0</td>\n",
       "      <td>15.3</td>\n",
       "      <td>396.90</td>\n",
       "      <td>4.98</td>\n",
       "      <td>24.0</td>\n",
       "    </tr>\n",
       "    <tr>\n",
       "      <th>1</th>\n",
       "      <td>0.02731</td>\n",
       "      <td>0.0</td>\n",
       "      <td>7.07</td>\n",
       "      <td>0.0</td>\n",
       "      <td>0.469</td>\n",
       "      <td>6.421</td>\n",
       "      <td>78.9</td>\n",
       "      <td>4.9671</td>\n",
       "      <td>2.0</td>\n",
       "      <td>242.0</td>\n",
       "      <td>17.8</td>\n",
       "      <td>396.90</td>\n",
       "      <td>9.14</td>\n",
       "      <td>21.6</td>\n",
       "    </tr>\n",
       "    <tr>\n",
       "      <th>2</th>\n",
       "      <td>0.02729</td>\n",
       "      <td>0.0</td>\n",
       "      <td>7.07</td>\n",
       "      <td>0.0</td>\n",
       "      <td>0.469</td>\n",
       "      <td>7.185</td>\n",
       "      <td>61.1</td>\n",
       "      <td>4.9671</td>\n",
       "      <td>2.0</td>\n",
       "      <td>242.0</td>\n",
       "      <td>17.8</td>\n",
       "      <td>392.83</td>\n",
       "      <td>4.03</td>\n",
       "      <td>34.7</td>\n",
       "    </tr>\n",
       "    <tr>\n",
       "      <th>3</th>\n",
       "      <td>0.03237</td>\n",
       "      <td>0.0</td>\n",
       "      <td>2.18</td>\n",
       "      <td>0.0</td>\n",
       "      <td>0.458</td>\n",
       "      <td>6.998</td>\n",
       "      <td>45.8</td>\n",
       "      <td>6.0622</td>\n",
       "      <td>3.0</td>\n",
       "      <td>222.0</td>\n",
       "      <td>18.7</td>\n",
       "      <td>394.63</td>\n",
       "      <td>2.94</td>\n",
       "      <td>33.4</td>\n",
       "    </tr>\n",
       "    <tr>\n",
       "      <th>4</th>\n",
       "      <td>0.06905</td>\n",
       "      <td>0.0</td>\n",
       "      <td>2.18</td>\n",
       "      <td>0.0</td>\n",
       "      <td>0.458</td>\n",
       "      <td>7.147</td>\n",
       "      <td>54.2</td>\n",
       "      <td>6.0622</td>\n",
       "      <td>3.0</td>\n",
       "      <td>222.0</td>\n",
       "      <td>18.7</td>\n",
       "      <td>396.90</td>\n",
       "      <td>5.33</td>\n",
       "      <td>36.2</td>\n",
       "    </tr>\n",
       "  </tbody>\n",
       "</table>\n",
       "</div>"
      ],
      "text/plain": [
       "      CRIM    ZN  INDUS  CHAS    NOX     RM   AGE     DIS  RAD    TAX  \\\n",
       "0  0.00632  18.0   2.31   0.0  0.538  6.575  65.2  4.0900  1.0  296.0   \n",
       "1  0.02731   0.0   7.07   0.0  0.469  6.421  78.9  4.9671  2.0  242.0   \n",
       "2  0.02729   0.0   7.07   0.0  0.469  7.185  61.1  4.9671  2.0  242.0   \n",
       "3  0.03237   0.0   2.18   0.0  0.458  6.998  45.8  6.0622  3.0  222.0   \n",
       "4  0.06905   0.0   2.18   0.0  0.458  7.147  54.2  6.0622  3.0  222.0   \n",
       "\n",
       "   PTRATIO       B  LSTAT  target  \n",
       "0     15.3  396.90   4.98    24.0  \n",
       "1     17.8  396.90   9.14    21.6  \n",
       "2     17.8  392.83   4.03    34.7  \n",
       "3     18.7  394.63   2.94    33.4  \n",
       "4     18.7  396.90   5.33    36.2  "
      ]
     },
     "execution_count": 1,
     "metadata": {},
     "output_type": "execute_result"
    }
   ],
   "source": [
    "from sklearn import datasets\n",
    "import pandas as pd\n",
    "data = datasets.load_boston()\n",
    "\n",
    "# Lea el DataFrame, primero usando los datos de la función\n",
    "df = pd.DataFrame(data.data, columns = data.feature_names)# Add a target column, and fill it with the target data\n",
    "df['target'] = data.target# Show the first five rows\n",
    "df.head()"
   ]
  },
  {
   "cell_type": "code",
   "execution_count": 2,
   "id": "024ea97e",
   "metadata": {},
   "outputs": [],
   "source": [
    "from sklearn.model_selection import train_test_split\n",
    "\n",
    "#aquí hago que mi variable \"X\" sea igual al marco de datos \"df\", pero con las columnas \"Dirección\" y \"precio_venta\" eliminadas\n",
    "X = df.drop([\"target\"], axis = 1)\n",
    "# aquí creo una variable \"y\" con la columna \"precio_venta\" para mi marco de datos (df)\n",
    "y = df[\"target\"]\n",
    "\n",
    "X_train, X_test, y_train, y_test = train_test_split(X, y, test_size = 0.40, random_state = 101)"
   ]
  },
  {
   "cell_type": "markdown",
   "id": "6bf119df",
   "metadata": {},
   "source": [
    "## Capacidad¶\n",
    "\n",
    "La capacidad de un modelo se refiere al tamaño y la complejidad de los patrones que puede aprender. En el caso de las redes neuronales, esto dependerá en gran medida de la cantidad de neuronas que tenga y de cómo estén conectadas entre sí. Si parece que su red no está adaptando los datos, debería intentar aumentar su capacidad."
   ]
  },
  {
   "cell_type": "markdown",
   "id": "e55abb5d",
   "metadata": {},
   "source": [
    "## activación 'relu'\n",
    "\n",
    "La función de activación lineal rectificada o ReLU para abreviar es una función lineal por partes que generará la entrada directamente si es positiva; de lo contrario, generará cero. ... La función de activación lineal rectificada supera el problema del gradiente de desaparición, lo que permite que los modelos aprendan más rápido y funcionen mejor"
   ]
  },
  {
   "cell_type": "markdown",
   "id": "b085ed65",
   "metadata": {},
   "source": [
    "## La función de pérdida¶\n",
    "\n",
    "Hemos visto cómo diseñar una arquitectura para una red, pero no hemos visto cómo decirle a una red qué problema resolver. Este es el trabajo de la función de pérdida.\n",
    "\n",
    "La función de pérdida mide la disparidad entre el valor real del objetivo y el valor que predice el modelo.\n",
    "\n",
    "Diferentes problemas requieren diferentes funciones de pérdida. Hemos estado analizando problemas de regresión, donde la tarea es predecir algún valor numérico: calorías en 80 cereales, calificación en calidad de vino tinto. Otras tareas de regresión podrían ser predecir el precio de una casa o la eficiencia de combustible de un automóvil.\n",
    "\n",
    "Una función de pérdida común para los problemas de regresión es el error absoluto medio o MAE. Para cada predicción y_pred, MAE mide la disparidad del objetivo verdadero y_true por una diferencia absoluta abs (y_true - y_pred).\n",
    "\n",
    "La pérdida total de MAE en un conjunto de datos es la media de todas estas diferencias absolutas."
   ]
  },
  {
   "cell_type": "code",
   "execution_count": 3,
   "id": "1f035426",
   "metadata": {
    "scrolled": false
   },
   "outputs": [
    {
     "name": "stderr",
     "output_type": "stream",
     "text": [
      "2021-12-04 12:45:15.541986: W tensorflow/stream_executor/platform/default/dso_loader.cc:64] Could not load dynamic library 'libcudart.so.11.0'; dlerror: libcudart.so.11.0: cannot open shared object file: No such file or directory; LD_LIBRARY_PATH: :/opt/oracle/instantclient_19_8\n",
      "2021-12-04 12:45:15.542044: I tensorflow/stream_executor/cuda/cudart_stub.cc:29] Ignore above cudart dlerror if you do not have a GPU set up on your machine.\n",
      "2021-12-04 12:45:17.456251: W tensorflow/stream_executor/platform/default/dso_loader.cc:64] Could not load dynamic library 'libcuda.so.1'; dlerror: libcuda.so.1: cannot open shared object file: No such file or directory; LD_LIBRARY_PATH: :/opt/oracle/instantclient_19_8\n",
      "2021-12-04 12:45:17.456303: W tensorflow/stream_executor/cuda/cuda_driver.cc:269] failed call to cuInit: UNKNOWN ERROR (303)\n",
      "2021-12-04 12:45:17.456331: I tensorflow/stream_executor/cuda/cuda_diagnostics.cc:156] kernel driver does not appear to be running on this host (virtual-machine): /proc/driver/nvidia/version does not exist\n",
      "2021-12-04 12:45:17.456676: I tensorflow/core/platform/cpu_feature_guard.cc:151] This TensorFlow binary is optimized with oneAPI Deep Neural Network Library (oneDNN) to use the following CPU instructions in performance-critical operations:  AVX2 FMA\n",
      "To enable them in other operations, rebuild TensorFlow with the appropriate compiler flags.\n"
     ]
    }
   ],
   "source": [
    "from tensorflow import keras\n",
    "from tensorflow.keras import layers, callbacks\n",
    "\n",
    "#Construimos el modelo#\n",
    "input_shape = [13]#numero de entradas(inputs)\n",
    "\n",
    "model = keras.Sequential([\n",
    "     \n",
    "    #capa de normalizacion (Batch Normalization)\n",
    "    #Y si lo agrega como la primera capa de su red, puede actuar como una especie de preprocesador adaptativo,\n",
    "    #Remplazando algo como el Escalador estándar de Sci-Kit Learn.\n",
    "    layers.BatchNormalization( input_shape = input_shape),\n",
    "    \n",
    "    # la capa oculta de ReLU\n",
    "    layers.Dense(units = 30, activation = 'relu'),\n",
    "    \n",
    "    #Normalización por lotes de capas\n",
    "    layers.BatchNormalization(),\n",
    "    \n",
    "#pensar en la deserción escolar como crear una especie de conjunto de redes.\n",
    "     #Las predicciones ya no las hará una gran red, sino un comité de redes más pequeñas.\n",
    "     #Las personas en el comité tienden a cometer diferentes tipos de errores, pero tienen razón al mismo tiempo, lo que hace que el comité en su conjunto sea mejor que cualquier individuo.\n",
    "     # (Si está familiarizado con los bosques aleatorios como un conjunto de árboles de decisión, es la misma idea).\n",
    "     # La \"capa de abandono\"(\"dropout layer\"), que puede ayudar a corregir el sobreajuste.\n",
    "    layers.Dropout(rate = 0.3), #aplicar un 30% de abandono a la siguiente capa\n",
    "    \n",
    "    #Capa de normalizacion (Batch Normalization)\n",
    "    layers.BatchNormalization(),\n",
    "    \n",
    "    # Capa oculta ReLu\n",
    "    layers.Dense(units = 15, activation = 'relu'),\n",
    "    \n",
    "    #Capa de normalizacion (Batch Normalization)\n",
    "    layers.BatchNormalization(),\n",
    "    \n",
    "    # Salida lineal\n",
    "    layers.Dense(units = 1),\n",
    "])\n",
    "\n",
    "#optimizador de sesgos\n",
    "model.compile(optimizer = 'adam',#Una \"optimizer\" que puede decirle a la red cómo cambiar sus pesos. Aquí usé el optimizador \"adam\" (pero hay más)\n",
    "                loss = 'mae',)   #Una \"loss function\" que mide qué tan buenas son las predicciones de la red (aquí utilicé el error absoluto medio)"
   ]
  },
  {
   "cell_type": "code",
   "execution_count": null,
   "id": "974386b4",
   "metadata": {},
   "outputs": [],
   "source": [
    "#Interpretar las curvas de aprendizaje\n",
    "early_stopping = callbacks.EarlyStopping(\n",
    "    min_delta = 0.001,      # cantidad mínima de cambio para contar como una mejora\n",
    "    patience = 5,           # cuantas épocas esperar antes de parar\n",
    "    restore_best_weights = True,\n",
    ")"
   ]
  },
  {
   "cell_type": "code",
   "execution_count": 4,
   "id": "8644bef5",
   "metadata": {
    "scrolled": true
   },
   "outputs": [
    {
     "name": "stdout",
     "output_type": "stream",
     "text": [
      "Epoch 1/150\n",
      "2/2 [==============================] - 2s 250ms/step - loss: 21.5042 - val_loss: 18.0525\n",
      "Epoch 2/150\n",
      "2/2 [==============================] - 0s 31ms/step - loss: 21.4943 - val_loss: 18.6326\n",
      "Epoch 3/150\n",
      "2/2 [==============================] - 0s 42ms/step - loss: 21.4843 - val_loss: 19.0624\n",
      "Epoch 4/150\n",
      "2/2 [==============================] - 0s 35ms/step - loss: 21.4742 - val_loss: 19.3980\n",
      "Epoch 5/150\n",
      "2/2 [==============================] - 0s 43ms/step - loss: 21.4640 - val_loss: 19.5541\n",
      "Epoch 6/150\n",
      "2/2 [==============================] - 0s 45ms/step - loss: 21.4537 - val_loss: 19.7493\n"
     ]
    }
   ],
   "source": [
    "#Aqui entrenamos el modelo\n",
    "history = model.fit(\n",
    "    X_train, y_train,\n",
    "    validation_data = (X_test, y_test),#Validacion de data usando los datos de testo\n",
    "    batch_size = 256,                  #montaje de datos por bloque\n",
    "    epochs = 150,                      #Nuemero de epocas de entrenamiento\n",
    "    callbacks = [early_stopping]       #Utilizar la interpretación de las curvas de aprendizaje\n",
    ")"
   ]
  },
  {
   "cell_type": "markdown",
   "id": "7fba1216",
   "metadata": {},
   "source": [
    "Cuando entrenamos un modelo, hemos graficado la pérdida en el conjunto de entrenamiento época por época. A esto también agregaremos un gráfico con los datos de validación. Estos gráficos los llamamos curvas de aprendizaje. Para entrenar modelos de aprendizaje profundo de manera efectiva, debemos ser capaces de interpretarlos.\n",
    "\n",
    "Ahora, la pérdida de entrenamiento disminuirá cuando el modelo aprenda la señal o cuando aprenda el ruido. Pero la pérdida de validación disminuirá solo cuando el modelo aprenda la señal. (Cualquier ruido que el modelo haya aprendido del conjunto de entrenamiento no se generalizará a nuevos datos). Por lo tanto, cuando un modelo aprende la señal, ambas curvas bajan, pero cuando aprende ruido se crea un espacio en las curvas. El tamaño del espacio le dice cuánto ruido ha aprendido el modelo."
   ]
  },
  {
   "cell_type": "code",
   "execution_count": 2,
   "id": "7a59a3ff",
   "metadata": {
    "scrolled": true
   },
   "outputs": [
    {
     "ename": "NameError",
     "evalue": "name 'history' is not defined",
     "output_type": "error",
     "traceback": [
      "\u001b[0;31m---------------------------------------------------------------------------\u001b[0m",
      "\u001b[0;31mNameError\u001b[0m                                 Traceback (most recent call last)",
      "\u001b[0;32m/tmp/ipykernel_31298/3312374253.py\u001b[0m in \u001b[0;36m<module>\u001b[0;34m\u001b[0m\n\u001b[1;32m      1\u001b[0m \u001b[0;32mimport\u001b[0m \u001b[0mpandas\u001b[0m \u001b[0;32mas\u001b[0m \u001b[0mpd\u001b[0m\u001b[0;34m\u001b[0m\u001b[0;34m\u001b[0m\u001b[0m\n\u001b[0;32m----> 2\u001b[0;31m \u001b[0mhistory_df\u001b[0m \u001b[0;34m=\u001b[0m \u001b[0mpd\u001b[0m\u001b[0;34m.\u001b[0m\u001b[0mDataFrame\u001b[0m\u001b[0;34m(\u001b[0m\u001b[0mhistory\u001b[0m\u001b[0;34m.\u001b[0m\u001b[0mhistory\u001b[0m\u001b[0;34m)\u001b[0m\u001b[0;34m\u001b[0m\u001b[0;34m\u001b[0m\u001b[0m\n\u001b[0m\u001b[1;32m      3\u001b[0m \u001b[0mhistory_df\u001b[0m\u001b[0;34m.\u001b[0m\u001b[0mloc\u001b[0m\u001b[0;34m[\u001b[0m\u001b[0;34m:\u001b[0m\u001b[0;34m,\u001b[0m \u001b[0;34m[\u001b[0m\u001b[0;34m'loss'\u001b[0m\u001b[0;34m,\u001b[0m \u001b[0;34m'val_loss'\u001b[0m\u001b[0;34m]\u001b[0m\u001b[0;34m]\u001b[0m\u001b[0;34m.\u001b[0m\u001b[0mplot\u001b[0m\u001b[0;34m(\u001b[0m\u001b[0mtitle\u001b[0m\u001b[0;34m=\u001b[0m\u001b[0;34m\"Cross-entropy\"\u001b[0m\u001b[0;34m)\u001b[0m\u001b[0;34m\u001b[0m\u001b[0;34m\u001b[0m\u001b[0m\n\u001b[1;32m      4\u001b[0m \u001b[0mhistory_df\u001b[0m\u001b[0;34m.\u001b[0m\u001b[0mloc\u001b[0m\u001b[0;34m[\u001b[0m\u001b[0;34m:\u001b[0m\u001b[0;34m,\u001b[0m \u001b[0;34m[\u001b[0m\u001b[0;34m'binary_accuracy'\u001b[0m\u001b[0;34m,\u001b[0m \u001b[0;34m'val_binary_accuracy'\u001b[0m\u001b[0;34m]\u001b[0m\u001b[0;34m]\u001b[0m\u001b[0;34m.\u001b[0m\u001b[0mplot\u001b[0m\u001b[0;34m(\u001b[0m\u001b[0mtitle\u001b[0m\u001b[0;34m=\u001b[0m\u001b[0;34m\"Accuracy\"\u001b[0m\u001b[0;34m)\u001b[0m\u001b[0;34m\u001b[0m\u001b[0;34m\u001b[0m\u001b[0m\n",
      "\u001b[0;31mNameError\u001b[0m: name 'history' is not defined"
     ]
    }
   ],
   "source": [
    "history_df = pd.DataFrame(history.history)\n",
    "history_df.loc[:, ['loss', 'val_loss']].plot()\n",
    "print(\"Minimum Validation Loss: {:0.4f}\".format(history_df['val_loss'].min()));"
   ]
  },
  {
   "cell_type": "markdown",
   "id": "fa06ac47",
   "metadata": {},
   "source": [
    "Puede ver que Keras lo mantendrá actualizado sobre la pérdida a medida que el modelo entrena.\n",
    "\n",
    "Sin embargo, a menudo, una mejor manera de ver la pérdida es trazarla. De hecho, el método de ajuste mantiene un registro de la pérdida producida durante el entrenamiento en un objeto Historial. Convertiremos los datos a un marco de datos de Pandas, lo que facilita el trazado"
   ]
  },
  {
   "cell_type": "code",
   "execution_count": 7,
   "id": "a3c0e9d0",
   "metadata": {},
   "outputs": [
    {
     "data": {
      "image/png": "[encoded data removed]",
      "text/plain": [
       "<Figure size 432x288 with 1 Axes>"
      ]
     },
     "metadata": {
      "needs_background": "light"
     },
     "output_type": "display_data"
    }
   ],
   "source": [
    "# convertir el historial de entrenamiento en un marco de datos\n",
    "history_df = pd.DataFrame(history.history)\n",
    "# utilizar el método de \"plot\" nativa de Pandas\n",
    "history_df['loss'].plot();"
   ]
  }
 ],
 "metadata": {
  "kernelspec": {
   "display_name": "Python 3 (ipykernel)",
   "language": "python",
   "name": "python3"
  },
  "language_info": {
   "codemirror_mode": {
    "name": "ipython",
    "version": 3
   },
   "file_extension": ".py",
   "mimetype": "text/x-python",
   "name": "python",
   "nbconvert_exporter": "python",
   "pygments_lexer": "ipython3",
   "version": "3.8.2"
  }
 },
 "nbformat": 4,
 "nbformat_minor": 5
}
